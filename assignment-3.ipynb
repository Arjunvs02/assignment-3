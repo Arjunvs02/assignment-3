{
 "cells": [
  {
   "cell_type": "markdown",
   "id": "30efff72-e016-45d2-827f-3984517a3388",
   "metadata": {},
   "source": [
    "## Numpy problems"
   ]
  },
  {
   "cell_type": "markdown",
   "id": "d7649da8-7a21-418a-b94a-c0f2a7abb1dc",
   "metadata": {},
   "source": [
    "## Using NumPy, create a 1D array of 20 random integers between 10 and50. Then, find the mean and standard deviation of the array."
   ]
  },
  {
   "cell_type": "code",
   "execution_count": 3,
   "id": "7e2cca7c-be88-41d8-8835-076a2167d97e",
   "metadata": {},
   "outputs": [],
   "source": [
    "import numpy as np"
   ]
  },
  {
   "cell_type": "code",
   "execution_count": 4,
   "id": "e6d3e66e-0104-4341-8642-0998bf4992b9",
   "metadata": {},
   "outputs": [
    {
     "name": "stdout",
     "output_type": "stream",
     "text": [
      "[34 39 42 23 35 28 26 45 42 28 19 36 48 35 33 10 38 25 10 36]\n"
     ]
    }
   ],
   "source": [
    "# Create a 1D array of 20 random integers between 10 and 50\n",
    "random_array = np.random.randint(10,50,20)\n",
    "print(random_array)"
   ]
  },
  {
   "cell_type": "code",
   "execution_count": 5,
   "id": "4b391cbc-d9e0-4d87-855c-6cb99a57c673",
   "metadata": {},
   "outputs": [
    {
     "name": "stdout",
     "output_type": "stream",
     "text": [
      "31.6\n",
      "10.239140588936163\n"
     ]
    }
   ],
   "source": [
    "# Compute the mean and standard deviation\n",
    "mean_value = np.mean(random_array)\n",
    "print(mean_value)\n",
    "std_dev = np.std(random_array)\n",
    "print(std_dev)"
   ]
  },
  {
   "cell_type": "markdown",
   "id": "ed4f76d7-c72f-4e1d-9322-19032e1fa8e3",
   "metadata": {},
   "source": [
    "## Create a 2D NumPy array of shape (6, 5) filled with random floatsbetween 0 and 1. Reshape this array to have shape (5, 6) and print both the original and reshaped arrays"
   ]
  },
  {
   "cell_type": "code",
   "execution_count": 7,
   "id": "0b1186b3-adf7-454c-9eee-504720a28eb0",
   "metadata": {},
   "outputs": [
    {
     "name": "stdout",
     "output_type": "stream",
     "text": [
      "[[0.98805616 0.86989068 0.89472248 0.9495755  0.74970545]\n",
      " [0.90109541 0.19450018 0.2547858  0.01712155 0.64836595]\n",
      " [0.77894981 0.21536645 0.07492551 0.67216524 0.68625033]\n",
      " [0.04881141 0.22232759 0.55207146 0.51125834 0.56087494]\n",
      " [0.69799276 0.48986808 0.73785413 0.68362143 0.22014048]\n",
      " [0.37456788 0.95890028 0.65338069 0.03185146 0.05152482]]\n"
     ]
    }
   ],
   "source": [
    "# Generate a 6x5 array with random floats between 0 and 1\n",
    "random_2d_array = np.random.rand(6, 5)\n",
    "print(random_2d_array)"
   ]
  },
  {
   "cell_type": "code",
   "execution_count": 8,
   "id": "587813b4-0053-4d20-a8f9-ac75315cb740",
   "metadata": {},
   "outputs": [
    {
     "name": "stdout",
     "output_type": "stream",
     "text": [
      "[[0.98805616 0.86989068 0.89472248 0.9495755  0.74970545 0.90109541]\n",
      " [0.19450018 0.2547858  0.01712155 0.64836595 0.77894981 0.21536645]\n",
      " [0.07492551 0.67216524 0.68625033 0.04881141 0.22232759 0.55207146]\n",
      " [0.51125834 0.56087494 0.69799276 0.48986808 0.73785413 0.68362143]\n",
      " [0.22014048 0.37456788 0.95890028 0.65338069 0.03185146 0.05152482]]\n"
     ]
    }
   ],
   "source": [
    "# Reshape to 5x6\n",
    "reshaped_array = random_2d_array.reshape(5, 6)\n",
    "print(reshaped_array)"
   ]
  },
  {
   "cell_type": "markdown",
   "id": "cb52e044-be08-4fbb-95fe-9d09187f4b1a",
   "metadata": {},
   "source": [
    "## Create a 2D array of shape (5, 5) filled with numbers from 1 to 25.Extract a subarray that includes rows 2 to 4 and columns 1 to 3.\n"
   ]
  },
  {
   "cell_type": "code",
   "execution_count": 10,
   "id": "188aefcf-3e98-415d-8176-96edff31db31",
   "metadata": {},
   "outputs": [
    {
     "name": "stdout",
     "output_type": "stream",
     "text": [
      "[[ 1  2  3  4  5]\n",
      " [ 6  7  8  9 10]\n",
      " [11 12 13 14 15]\n",
      " [16 17 18 19 20]\n",
      " [21 22 23 24 25]]\n"
     ]
    }
   ],
   "source": [
    "array_1 = np.arange(1,26).reshape(5,5)\n",
    "print(array_1)"
   ]
  },
  {
   "cell_type": "code",
   "execution_count": 11,
   "id": "f75860aa-ae59-482b-a3f9-03158d616f50",
   "metadata": {},
   "outputs": [
    {
     "name": "stdout",
     "output_type": "stream",
     "text": [
      "[[ 6  7  8]\n",
      " [11 12 13]\n",
      " [16 17 18]]\n"
     ]
    }
   ],
   "source": [
    "subarray = array_1[1:4, 0:3]\n",
    "print(subarray)"
   ]
  },
  {
   "cell_type": "markdown",
   "id": "d677b8ac-caf2-49bc-8549-504a07a50935",
   "metadata": {},
   "source": [
    "##  Generate two 1D arrays A and B, each containing 10 random integersbetween 1 and 100. Add the arrays together, then multiply the result by 2. Showthe results of each operation.\n"
   ]
  },
  {
   "cell_type": "code",
   "execution_count": 13,
   "id": "d45dae3e-1a72-43b4-bb75-aa492e6da650",
   "metadata": {},
   "outputs": [
    {
     "name": "stdout",
     "output_type": "stream",
     "text": [
      "[64  7 86 85 26  8 22 40 54  4]\n",
      "[ 5 44  7 42  5 21 59 62 30 10]\n"
     ]
    }
   ],
   "source": [
    "# Generate two 1D arrays A and B with 10 random integers between 1 and 100\n",
    "A = np.random.randint(1, 101, 10)\n",
    "print(A)\n",
    "B = np.random.randint(1, 101, 10)\n",
    "print(B)"
   ]
  },
  {
   "cell_type": "code",
   "execution_count": 14,
   "id": "46ddc2d1-046d-4fa3-a2a2-6b05861cc35a",
   "metadata": {},
   "outputs": [
    {
     "name": "stdout",
     "output_type": "stream",
     "text": [
      "[ 69  51  93 127  31  29  81 102  84  14]\n",
      "[138 102 186 254  62  58 162 204 168  28]\n"
     ]
    }
   ],
   "source": [
    "sum_array = A+B\n",
    "print(sum_array)\n",
    "mult_array = sum_array*2\n",
    "print(mult_array)\n"
   ]
  },
  {
   "cell_type": "markdown",
   "id": "069cc4ad-7e61-42f8-9337-05345d4e82b7",
   "metadata": {},
   "source": [
    "## Create a 2D array A of shape (3, 4) filled with random integers between1 and 10. Create a 1D array B of shape (4,) with values [1, 2, 3, 4]. Add the 1D arrayto the 2D array and explain how broadcasting works in this case."
   ]
  },
  {
   "cell_type": "code",
   "execution_count": 16,
   "id": "7722356f-9e48-40cf-b36a-4d87f4d0e00b",
   "metadata": {},
   "outputs": [
    {
     "name": "stdout",
     "output_type": "stream",
     "text": [
      "[[ 9 10  4  7]\n",
      " [ 7  3  5  2]\n",
      " [ 9  6  7  5]]\n"
     ]
    }
   ],
   "source": [
    "A=np.random.randint(1,11,(3,4))\n",
    "print(A)"
   ]
  },
  {
   "cell_type": "code",
   "execution_count": 17,
   "id": "c456844a-37f8-443a-8441-6443f991492e",
   "metadata": {},
   "outputs": [
    {
     "name": "stdout",
     "output_type": "stream",
     "text": [
      "[1 2 3 4]\n"
     ]
    }
   ],
   "source": [
    "B=np.array([1,2,3,4])\n",
    "print(B)"
   ]
  },
  {
   "cell_type": "code",
   "execution_count": 18,
   "id": "85480511-0394-4e1a-81a1-ad870ab8cc8f",
   "metadata": {},
   "outputs": [
    {
     "name": "stdout",
     "output_type": "stream",
     "text": [
      "[[10 12  7 11]\n",
      " [ 8  5  8  6]\n",
      " [10  8 10  9]]\n"
     ]
    }
   ],
   "source": [
    "sum_array=A+B\n",
    "print(sum_array)"
   ]
  },
  {
   "cell_type": "markdown",
   "id": "b2c85428-d9cd-4f46-b15f-ec84d6e9923e",
   "metadata": {},
   "source": [
    "## : Create a 3x3 matrix of random integers between 1 and 100. Find therow with the maximum sum, and then the maximum value in that row.\n"
   ]
  },
  {
   "cell_type": "code",
   "execution_count": 20,
   "id": "ac6e08de-092d-4142-a242-39fc6349e8bc",
   "metadata": {},
   "outputs": [
    {
     "name": "stdout",
     "output_type": "stream",
     "text": [
      "[[28 91 25]\n",
      " [52 11 19]\n",
      " [56 95 67]]\n"
     ]
    }
   ],
   "source": [
    "array_3d_matrix = np.random.randint(1,101,(3,3))\n",
    "print(array_3d_matrix)"
   ]
  },
  {
   "cell_type": "code",
   "execution_count": 21,
   "id": "a187f466-6b20-49e4-900a-b0fce57e199a",
   "metadata": {},
   "outputs": [
    {
     "name": "stdout",
     "output_type": "stream",
     "text": [
      "[144  82 218]\n"
     ]
    }
   ],
   "source": [
    "sum_row = np.sum(array_3d_matrix,axis = 1)\n",
    "print(sum_row) # To find the sum of index"
   ]
  },
  {
   "cell_type": "code",
   "execution_count": 22,
   "id": "2abe2168-0425-4713-9f6d-626403f0430c",
   "metadata": {},
   "outputs": [
    {
     "name": "stdout",
     "output_type": "stream",
     "text": [
      "2\n"
     ]
    }
   ],
   "source": [
    "index_value = np.argmax(sum_row)\n",
    "print(index_value)"
   ]
  },
  {
   "cell_type": "code",
   "execution_count": 23,
   "id": "4161ace7-ff7e-4a33-9201-b8c8f827f21b",
   "metadata": {},
   "outputs": [
    {
     "name": "stdout",
     "output_type": "stream",
     "text": [
      "95\n"
     ]
    }
   ],
   "source": [
    "max_value = np.max(array_3d_matrix[index_value])\n",
    "print(max_value)"
   ]
  },
  {
   "cell_type": "markdown",
   "id": "c96a7cf7-9961-4d03-921f-0512213c0f0a",
   "metadata": {},
   "source": [
    "## Create two 2D arrays A and B, both of shape (2, 2), filled with randomintegers. Compute the matrix multiplication of A and B using np.dot().\n",
    "\n",
    "\n",
    "\n"
   ]
  },
  {
   "cell_type": "code",
   "execution_count": 25,
   "id": "ace43301-23ea-4bc1-80d1-fb20da015a08",
   "metadata": {},
   "outputs": [
    {
     "name": "stdout",
     "output_type": "stream",
     "text": [
      "A =\n",
      " [[5 9]\n",
      " [4 3]] \n",
      "\n",
      "B=\n",
      " [[18  7]\n",
      " [ 1 12]] \n",
      "\n"
     ]
    }
   ],
   "source": [
    "A = np.random.randint(1,15,(2,2))\n",
    "B = np.random.randint(1,20,(2,2))\n",
    "print(\"A =\\n\",A,'\\n')\n",
    "print(\"B=\\n\" ,B,'\\n')"
   ]
  },
  {
   "cell_type": "code",
   "execution_count": 26,
   "id": "6b49cf01-228e-465c-875d-2140667ea7dc",
   "metadata": {},
   "outputs": [
    {
     "name": "stdout",
     "output_type": "stream",
     "text": [
      "[[ 99 143]\n",
      " [ 75  64]]\n"
     ]
    }
   ],
   "source": [
    "matrix_multi = np.dot(A,B)\n",
    "print(matrix_multi)\n"
   ]
  },
  {
   "cell_type": "markdown",
   "id": "cc121307-8ab4-4660-a16a-4780fccc1636",
   "metadata": {},
   "source": [
    "## Create an array of shape (6, 6) with random integers between 1 and 50.Using boolean indexing, extract all values greater than 25.\n",
    "\n",
    " "
   ]
  },
  {
   "cell_type": "code",
   "execution_count": 28,
   "id": "c5010466-0e6e-47e4-a717-b000f496f7e2",
   "metadata": {},
   "outputs": [
    {
     "name": "stdout",
     "output_type": "stream",
     "text": [
      "[[27 16 15  6 21 22]\n",
      " [ 5 32 28 26 14 45]\n",
      " [15 21 43 30 16 24]\n",
      " [ 6 47 16 36 10 13]\n",
      " [46 29 44 13 44  7]\n",
      " [40  4 36 29 26  9]]\n"
     ]
    }
   ],
   "source": [
    "array = np.random.randint(1,51,(6,6))\n",
    "print(array)"
   ]
  },
  {
   "cell_type": "code",
   "execution_count": 29,
   "id": "8f51a97e-3a0c-4572-b8b2-fcd9b0f52456",
   "metadata": {},
   "outputs": [
    {
     "name": "stdout",
     "output_type": "stream",
     "text": [
      "[27 32 28 26 45 43 30 47 36 46 29 44 44 40 36 29 26]\n"
     ]
    }
   ],
   "source": [
    "max_array=array[array>25]\n",
    "print(max_array)"
   ]
  },
  {
   "cell_type": "markdown",
   "id": "a53cd69a-5d8d-43b3-8c9f-0d68138916d4",
   "metadata": {},
   "source": [
    "## Create a 5x5 array of random floats between 0 and 1. Calculate themedian and variance along the columns and rows separately"
   ]
  },
  {
   "cell_type": "code",
   "execution_count": 31,
   "id": "7a4c708a-ede8-4541-b5fe-d18475061d93",
   "metadata": {},
   "outputs": [
    {
     "name": "stdout",
     "output_type": "stream",
     "text": [
      "[[0.90456274 0.96693231 0.80176239 0.4106054  0.31320809]\n",
      " [0.69023637 0.79945511 0.77613694 0.19467642 0.48323926]\n",
      " [0.87503128 0.52153755 0.12537374 0.32837521 0.86040692]\n",
      " [0.03741875 0.17601421 0.19002601 0.46823421 0.92120744]\n",
      " [0.4321154  0.34284204 0.83200049 0.3610394  0.6361565 ]]\n"
     ]
    }
   ],
   "source": [
    "matrix = np.random.rand(5,5)\n",
    "print(matrix)"
   ]
  },
  {
   "cell_type": "code",
   "execution_count": 32,
   "id": "a266ca3c-ee86-4fa4-9feb-da60d81bb25c",
   "metadata": {},
   "outputs": [
    {
     "name": "stdout",
     "output_type": "stream",
     "text": [
      "[0.80176239 0.69023637 0.52153755 0.19002601 0.4321154 ]\n"
     ]
    }
   ],
   "source": [
    "matrix_rowmedian= np.median(matrix,axis=1)\n",
    "print(matrix_rowmedian)"
   ]
  },
  {
   "cell_type": "code",
   "execution_count": 33,
   "id": "0e82660c-1f77-4c4f-b4f2-e03e20aec850",
   "metadata": {},
   "outputs": [
    {
     "name": "stdout",
     "output_type": "stream",
     "text": [
      "[0.69023637 0.52153755 0.77613694 0.3610394  0.6361565 ]\n"
     ]
    }
   ],
   "source": [
    "matrix_colmedian=np.median(matrix,axis=0)\n",
    "print(matrix_colmedian)"
   ]
  },
  {
   "cell_type": "code",
   "execution_count": 34,
   "id": "d2451000-065c-4488-bac4-ca3b782dda80",
   "metadata": {},
   "outputs": [
    {
     "name": "stdout",
     "output_type": "stream",
     "text": [
      "[0.07093854 0.0512473  0.08638488 0.09869179 0.03504206]\n"
     ]
    }
   ],
   "source": [
    "matrix_rowvariance=np.var(matrix,axis=1)\n",
    "print(matrix_rowvariance)"
   ]
  },
  {
   "cell_type": "code",
   "execution_count": 35,
   "id": "d7db4a50-f7df-43c0-8977-0d7f775b1183",
   "metadata": {},
   "outputs": [
    {
     "name": "stdout",
     "output_type": "stream",
     "text": [
      "[0.10409817 0.0838011  0.10076264 0.00846676 0.05179961]\n"
     ]
    }
   ],
   "source": [
    "matrix_colvariance=np.var(matrix,axis=0)\n",
    "print(matrix_colvariance)"
   ]
  },
  {
   "cell_type": "markdown",
   "id": "5742a6a8-2021-4303-8fb0-4fbb60cabb7a",
   "metadata": {},
   "source": [
    "## Generate a 3x3 matrix of random integers between 1 and 10. Performthe following element-wise operations: subtract 2 from each element, square eachelement, and compute the reciprocal of each element."
   ]
  },
  {
   "cell_type": "code",
   "execution_count": 50,
   "id": "a5eec19b-5063-4047-a69c-07c0fa81812b",
   "metadata": {},
   "outputs": [
    {
     "name": "stdout",
     "output_type": "stream",
     "text": [
      "[[10 10  1]\n",
      " [ 5  7  7]\n",
      " [10  3  9]]\n"
     ]
    }
   ],
   "source": [
    "matrix = np.random.randint(1,11,(3,3))\n",
    "print(matrix)"
   ]
  },
  {
   "cell_type": "code",
   "execution_count": 52,
   "id": "5a5c4b9e-53c3-48b4-8dd1-4f32295138af",
   "metadata": {},
   "outputs": [
    {
     "name": "stdout",
     "output_type": "stream",
     "text": [
      "[[ 8  8 -1]\n",
      " [ 3  5  5]\n",
      " [ 8  1  7]]\n"
     ]
    }
   ],
   "source": [
    "sub_array = matrix -2\n",
    "print(sub_array)"
   ]
  },
  {
   "cell_type": "code",
   "execution_count": 54,
   "id": "b80a4156-eb3d-4895-beda-40861384add3",
   "metadata": {},
   "outputs": [
    {
     "name": "stdout",
     "output_type": "stream",
     "text": [
      "[[100 100   1]\n",
      " [ 25  49  49]\n",
      " [100   9  81]]\n"
     ]
    }
   ],
   "source": [
    "square_array = matrix**2\n",
    "print(square_array)"
   ]
  },
  {
   "cell_type": "code",
   "execution_count": 60,
   "id": "3c2b3017-01ff-46e2-8879-0bc6daa95ad4",
   "metadata": {},
   "outputs": [
    {
     "name": "stdout",
     "output_type": "stream",
     "text": [
      "[[0.1        0.1        1.        ]\n",
      " [0.2        0.14285714 0.14285714]\n",
      " [0.1        0.33333333 0.11111111]]\n"
     ]
    }
   ],
   "source": [
    "reciprocal_array=1/matrix\n",
    "print(reciprocal_array)"
   ]
  },
  {
   "cell_type": "code",
   "execution_count": 64,
   "id": "1687a977-fb47-4301-8570-a5770586afed",
   "metadata": {},
   "outputs": [
    {
     "name": "stdout",
     "output_type": "stream",
     "text": [
      "[[0.1        0.1        1.        ]\n",
      " [0.2        0.14285714 0.14285714]\n",
      " [0.1        0.33333333 0.11111111]]\n"
     ]
    }
   ],
   "source": [
    "# using reciprocal\n",
    "rec_array= np.reciprocal(matrix.astype(float))\n",
    "print(rec_array)"
   ]
  },
  {
   "cell_type": "code",
   "execution_count": 67,
   "id": "b2592fc5-78d0-4332-89f2-009dca4cd573",
   "metadata": {},
   "outputs": [],
   "source": [
    "import pandas as pd"
   ]
  },
  {
   "cell_type": "markdown",
   "id": "19b58030-8564-4f93-90c6-94ed42db78fa",
   "metadata": {},
   "source": [
    "## 1 Basic Exploration\n",
    "### Load the dataset into a Pandas DataFrame. Display:\n",
    "#### ○ The first 10 rows\n",
    "#### ○ The total number of rows and columns\n",
    "#### ○ Summary statistics for numerical columns"
   ]
  },
  {
   "cell_type": "code",
   "execution_count": 75,
   "id": "ddf742ee-dc35-4367-ad85-2f3cb7208a43",
   "metadata": {},
   "outputs": [
    {
     "name": "stdout",
     "output_type": "stream",
     "text": [
      "First 10 rows:\n"
     ]
    },
    {
     "data": {
      "text/html": [
       "<div>\n",
       "<style scoped>\n",
       "    .dataframe tbody tr th:only-of-type {\n",
       "        vertical-align: middle;\n",
       "    }\n",
       "\n",
       "    .dataframe tbody tr th {\n",
       "        vertical-align: top;\n",
       "    }\n",
       "\n",
       "    .dataframe thead th {\n",
       "        text-align: right;\n",
       "    }\n",
       "</style>\n",
       "<table border=\"1\" class=\"dataframe\">\n",
       "  <thead>\n",
       "    <tr style=\"text-align: right;\">\n",
       "      <th></th>\n",
       "      <th>mpg</th>\n",
       "      <th>cylinders</th>\n",
       "      <th>displacement</th>\n",
       "      <th>horsepower</th>\n",
       "      <th>weight</th>\n",
       "      <th>acceleration</th>\n",
       "      <th>model year</th>\n",
       "      <th>origin</th>\n",
       "      <th>car name</th>\n",
       "    </tr>\n",
       "  </thead>\n",
       "  <tbody>\n",
       "    <tr>\n",
       "      <th>0</th>\n",
       "      <td>18.0</td>\n",
       "      <td>8</td>\n",
       "      <td>307.0</td>\n",
       "      <td>130</td>\n",
       "      <td>3504</td>\n",
       "      <td>12.0</td>\n",
       "      <td>70</td>\n",
       "      <td>1</td>\n",
       "      <td>chevrolet chevelle malibu</td>\n",
       "    </tr>\n",
       "    <tr>\n",
       "      <th>1</th>\n",
       "      <td>15.0</td>\n",
       "      <td>8</td>\n",
       "      <td>350.0</td>\n",
       "      <td>165</td>\n",
       "      <td>3693</td>\n",
       "      <td>11.5</td>\n",
       "      <td>70</td>\n",
       "      <td>1</td>\n",
       "      <td>buick skylark 320</td>\n",
       "    </tr>\n",
       "    <tr>\n",
       "      <th>2</th>\n",
       "      <td>18.0</td>\n",
       "      <td>8</td>\n",
       "      <td>318.0</td>\n",
       "      <td>150</td>\n",
       "      <td>3436</td>\n",
       "      <td>11.0</td>\n",
       "      <td>70</td>\n",
       "      <td>1</td>\n",
       "      <td>plymouth satellite</td>\n",
       "    </tr>\n",
       "    <tr>\n",
       "      <th>3</th>\n",
       "      <td>16.0</td>\n",
       "      <td>8</td>\n",
       "      <td>304.0</td>\n",
       "      <td>150</td>\n",
       "      <td>3433</td>\n",
       "      <td>12.0</td>\n",
       "      <td>70</td>\n",
       "      <td>1</td>\n",
       "      <td>amc rebel sst</td>\n",
       "    </tr>\n",
       "    <tr>\n",
       "      <th>4</th>\n",
       "      <td>17.0</td>\n",
       "      <td>8</td>\n",
       "      <td>302.0</td>\n",
       "      <td>140</td>\n",
       "      <td>3449</td>\n",
       "      <td>10.5</td>\n",
       "      <td>70</td>\n",
       "      <td>1</td>\n",
       "      <td>ford torino</td>\n",
       "    </tr>\n",
       "    <tr>\n",
       "      <th>5</th>\n",
       "      <td>15.0</td>\n",
       "      <td>8</td>\n",
       "      <td>429.0</td>\n",
       "      <td>198</td>\n",
       "      <td>4341</td>\n",
       "      <td>10.0</td>\n",
       "      <td>70</td>\n",
       "      <td>1</td>\n",
       "      <td>ford galaxie 500</td>\n",
       "    </tr>\n",
       "    <tr>\n",
       "      <th>6</th>\n",
       "      <td>14.0</td>\n",
       "      <td>8</td>\n",
       "      <td>454.0</td>\n",
       "      <td>220</td>\n",
       "      <td>4354</td>\n",
       "      <td>9.0</td>\n",
       "      <td>70</td>\n",
       "      <td>1</td>\n",
       "      <td>chevrolet impala</td>\n",
       "    </tr>\n",
       "    <tr>\n",
       "      <th>7</th>\n",
       "      <td>14.0</td>\n",
       "      <td>8</td>\n",
       "      <td>440.0</td>\n",
       "      <td>215</td>\n",
       "      <td>4312</td>\n",
       "      <td>8.5</td>\n",
       "      <td>70</td>\n",
       "      <td>1</td>\n",
       "      <td>plymouth fury iii</td>\n",
       "    </tr>\n",
       "    <tr>\n",
       "      <th>8</th>\n",
       "      <td>14.0</td>\n",
       "      <td>8</td>\n",
       "      <td>455.0</td>\n",
       "      <td>225</td>\n",
       "      <td>4425</td>\n",
       "      <td>10.0</td>\n",
       "      <td>70</td>\n",
       "      <td>1</td>\n",
       "      <td>pontiac catalina</td>\n",
       "    </tr>\n",
       "    <tr>\n",
       "      <th>9</th>\n",
       "      <td>15.0</td>\n",
       "      <td>8</td>\n",
       "      <td>390.0</td>\n",
       "      <td>190</td>\n",
       "      <td>3850</td>\n",
       "      <td>8.5</td>\n",
       "      <td>70</td>\n",
       "      <td>1</td>\n",
       "      <td>amc ambassador dpl</td>\n",
       "    </tr>\n",
       "  </tbody>\n",
       "</table>\n",
       "</div>"
      ],
      "text/plain": [
       "    mpg  cylinders  displacement horsepower  weight  acceleration  model year  \\\n",
       "0  18.0          8         307.0        130    3504          12.0          70   \n",
       "1  15.0          8         350.0        165    3693          11.5          70   \n",
       "2  18.0          8         318.0        150    3436          11.0          70   \n",
       "3  16.0          8         304.0        150    3433          12.0          70   \n",
       "4  17.0          8         302.0        140    3449          10.5          70   \n",
       "5  15.0          8         429.0        198    4341          10.0          70   \n",
       "6  14.0          8         454.0        220    4354           9.0          70   \n",
       "7  14.0          8         440.0        215    4312           8.5          70   \n",
       "8  14.0          8         455.0        225    4425          10.0          70   \n",
       "9  15.0          8         390.0        190    3850           8.5          70   \n",
       "\n",
       "   origin                   car name  \n",
       "0       1  chevrolet chevelle malibu  \n",
       "1       1          buick skylark 320  \n",
       "2       1         plymouth satellite  \n",
       "3       1              amc rebel sst  \n",
       "4       1                ford torino  \n",
       "5       1           ford galaxie 500  \n",
       "6       1           chevrolet impala  \n",
       "7       1          plymouth fury iii  \n",
       "8       1           pontiac catalina  \n",
       "9       1         amc ambassador dpl  "
      ]
     },
     "execution_count": 75,
     "metadata": {},
     "output_type": "execute_result"
    }
   ],
   "source": [
    "df = pd.read_csv(\"auto-mpg.csv\")\n",
    "print(\"First 10 rows:\")\n",
    "df.head(10)"
   ]
  },
  {
   "cell_type": "code",
   "execution_count": 77,
   "id": "a978b5aa-900d-4d79-ac2f-2302569a8685",
   "metadata": {},
   "outputs": [
    {
     "name": "stdout",
     "output_type": "stream",
     "text": [
      "Total number of rows and columns:\n"
     ]
    },
    {
     "data": {
      "text/plain": [
       "(398, 9)"
      ]
     },
     "execution_count": 77,
     "metadata": {},
     "output_type": "execute_result"
    }
   ],
   "source": [
    "print(\"Total number of rows and columns:\")\n",
    "df.shape"
   ]
  },
  {
   "cell_type": "code",
   "execution_count": 79,
   "id": "004c69ce-3735-442c-94dc-8b128770d0c1",
   "metadata": {},
   "outputs": [
    {
     "name": "stdout",
     "output_type": "stream",
     "text": [
      "Summary statistics for numerical columns:\n"
     ]
    },
    {
     "data": {
      "text/html": [
       "<div>\n",
       "<style scoped>\n",
       "    .dataframe tbody tr th:only-of-type {\n",
       "        vertical-align: middle;\n",
       "    }\n",
       "\n",
       "    .dataframe tbody tr th {\n",
       "        vertical-align: top;\n",
       "    }\n",
       "\n",
       "    .dataframe thead th {\n",
       "        text-align: right;\n",
       "    }\n",
       "</style>\n",
       "<table border=\"1\" class=\"dataframe\">\n",
       "  <thead>\n",
       "    <tr style=\"text-align: right;\">\n",
       "      <th></th>\n",
       "      <th>mpg</th>\n",
       "      <th>cylinders</th>\n",
       "      <th>displacement</th>\n",
       "      <th>weight</th>\n",
       "      <th>acceleration</th>\n",
       "      <th>model year</th>\n",
       "      <th>origin</th>\n",
       "    </tr>\n",
       "  </thead>\n",
       "  <tbody>\n",
       "    <tr>\n",
       "      <th>count</th>\n",
       "      <td>398.000000</td>\n",
       "      <td>398.000000</td>\n",
       "      <td>398.000000</td>\n",
       "      <td>398.000000</td>\n",
       "      <td>398.000000</td>\n",
       "      <td>398.000000</td>\n",
       "      <td>398.000000</td>\n",
       "    </tr>\n",
       "    <tr>\n",
       "      <th>mean</th>\n",
       "      <td>23.514573</td>\n",
       "      <td>5.454774</td>\n",
       "      <td>193.425879</td>\n",
       "      <td>2970.424623</td>\n",
       "      <td>15.568090</td>\n",
       "      <td>76.010050</td>\n",
       "      <td>1.572864</td>\n",
       "    </tr>\n",
       "    <tr>\n",
       "      <th>std</th>\n",
       "      <td>7.815984</td>\n",
       "      <td>1.701004</td>\n",
       "      <td>104.269838</td>\n",
       "      <td>846.841774</td>\n",
       "      <td>2.757689</td>\n",
       "      <td>3.697627</td>\n",
       "      <td>0.802055</td>\n",
       "    </tr>\n",
       "    <tr>\n",
       "      <th>min</th>\n",
       "      <td>9.000000</td>\n",
       "      <td>3.000000</td>\n",
       "      <td>68.000000</td>\n",
       "      <td>1613.000000</td>\n",
       "      <td>8.000000</td>\n",
       "      <td>70.000000</td>\n",
       "      <td>1.000000</td>\n",
       "    </tr>\n",
       "    <tr>\n",
       "      <th>25%</th>\n",
       "      <td>17.500000</td>\n",
       "      <td>4.000000</td>\n",
       "      <td>104.250000</td>\n",
       "      <td>2223.750000</td>\n",
       "      <td>13.825000</td>\n",
       "      <td>73.000000</td>\n",
       "      <td>1.000000</td>\n",
       "    </tr>\n",
       "    <tr>\n",
       "      <th>50%</th>\n",
       "      <td>23.000000</td>\n",
       "      <td>4.000000</td>\n",
       "      <td>148.500000</td>\n",
       "      <td>2803.500000</td>\n",
       "      <td>15.500000</td>\n",
       "      <td>76.000000</td>\n",
       "      <td>1.000000</td>\n",
       "    </tr>\n",
       "    <tr>\n",
       "      <th>75%</th>\n",
       "      <td>29.000000</td>\n",
       "      <td>8.000000</td>\n",
       "      <td>262.000000</td>\n",
       "      <td>3608.000000</td>\n",
       "      <td>17.175000</td>\n",
       "      <td>79.000000</td>\n",
       "      <td>2.000000</td>\n",
       "    </tr>\n",
       "    <tr>\n",
       "      <th>max</th>\n",
       "      <td>46.600000</td>\n",
       "      <td>8.000000</td>\n",
       "      <td>455.000000</td>\n",
       "      <td>5140.000000</td>\n",
       "      <td>24.800000</td>\n",
       "      <td>82.000000</td>\n",
       "      <td>3.000000</td>\n",
       "    </tr>\n",
       "  </tbody>\n",
       "</table>\n",
       "</div>"
      ],
      "text/plain": [
       "              mpg   cylinders  displacement       weight  acceleration  \\\n",
       "count  398.000000  398.000000    398.000000   398.000000    398.000000   \n",
       "mean    23.514573    5.454774    193.425879  2970.424623     15.568090   \n",
       "std      7.815984    1.701004    104.269838   846.841774      2.757689   \n",
       "min      9.000000    3.000000     68.000000  1613.000000      8.000000   \n",
       "25%     17.500000    4.000000    104.250000  2223.750000     13.825000   \n",
       "50%     23.000000    4.000000    148.500000  2803.500000     15.500000   \n",
       "75%     29.000000    8.000000    262.000000  3608.000000     17.175000   \n",
       "max     46.600000    8.000000    455.000000  5140.000000     24.800000   \n",
       "\n",
       "       model year      origin  \n",
       "count  398.000000  398.000000  \n",
       "mean    76.010050    1.572864  \n",
       "std      3.697627    0.802055  \n",
       "min     70.000000    1.000000  \n",
       "25%     73.000000    1.000000  \n",
       "50%     76.000000    1.000000  \n",
       "75%     79.000000    2.000000  \n",
       "max     82.000000    3.000000  "
      ]
     },
     "execution_count": 79,
     "metadata": {},
     "output_type": "execute_result"
    }
   ],
   "source": [
    "print(\"Summary statistics for numerical columns:\")\n",
    "df.describe()"
   ]
  },
  {
   "cell_type": "markdown",
   "id": "d9c98b93-1ec7-4c8e-8002-fce2cfafd506",
   "metadata": {},
   "source": [
    "## 2 Filtering and Indexing\n"
   ]
  },
  {
   "cell_type": "code",
   "execution_count": 83,
   "id": "34565637-579b-4829-b3a4-c7d00294d912",
   "metadata": {},
   "outputs": [
    {
     "data": {
      "text/html": [
       "<div>\n",
       "<style scoped>\n",
       "    .dataframe tbody tr th:only-of-type {\n",
       "        vertical-align: middle;\n",
       "    }\n",
       "\n",
       "    .dataframe tbody tr th {\n",
       "        vertical-align: top;\n",
       "    }\n",
       "\n",
       "    .dataframe thead th {\n",
       "        text-align: right;\n",
       "    }\n",
       "</style>\n",
       "<table border=\"1\" class=\"dataframe\">\n",
       "  <thead>\n",
       "    <tr style=\"text-align: right;\">\n",
       "      <th></th>\n",
       "      <th>car name</th>\n",
       "      <th>weight</th>\n",
       "      <th>mpg</th>\n",
       "    </tr>\n",
       "  </thead>\n",
       "  <tbody>\n",
       "    <tr>\n",
       "      <th>167</th>\n",
       "      <td>toyota corolla</td>\n",
       "      <td>2171</td>\n",
       "      <td>29.0</td>\n",
       "    </tr>\n",
       "    <tr>\n",
       "      <th>168</th>\n",
       "      <td>ford pinto</td>\n",
       "      <td>2639</td>\n",
       "      <td>23.0</td>\n",
       "    </tr>\n",
       "    <tr>\n",
       "      <th>169</th>\n",
       "      <td>amc gremlin</td>\n",
       "      <td>2914</td>\n",
       "      <td>20.0</td>\n",
       "    </tr>\n",
       "    <tr>\n",
       "      <th>170</th>\n",
       "      <td>pontiac astro</td>\n",
       "      <td>2592</td>\n",
       "      <td>23.0</td>\n",
       "    </tr>\n",
       "    <tr>\n",
       "      <th>171</th>\n",
       "      <td>toyota corona</td>\n",
       "      <td>2702</td>\n",
       "      <td>24.0</td>\n",
       "    </tr>\n",
       "    <tr>\n",
       "      <th>172</th>\n",
       "      <td>volkswagen dasher</td>\n",
       "      <td>2223</td>\n",
       "      <td>25.0</td>\n",
       "    </tr>\n",
       "    <tr>\n",
       "      <th>173</th>\n",
       "      <td>datsun 710</td>\n",
       "      <td>2545</td>\n",
       "      <td>24.0</td>\n",
       "    </tr>\n",
       "    <tr>\n",
       "      <th>174</th>\n",
       "      <td>ford pinto</td>\n",
       "      <td>2984</td>\n",
       "      <td>18.0</td>\n",
       "    </tr>\n",
       "    <tr>\n",
       "      <th>175</th>\n",
       "      <td>volkswagen rabbit</td>\n",
       "      <td>1937</td>\n",
       "      <td>29.0</td>\n",
       "    </tr>\n",
       "    <tr>\n",
       "      <th>177</th>\n",
       "      <td>audi 100ls</td>\n",
       "      <td>2694</td>\n",
       "      <td>23.0</td>\n",
       "    </tr>\n",
       "    <tr>\n",
       "      <th>178</th>\n",
       "      <td>peugeot 504</td>\n",
       "      <td>2957</td>\n",
       "      <td>23.0</td>\n",
       "    </tr>\n",
       "    <tr>\n",
       "      <th>179</th>\n",
       "      <td>volvo 244dl</td>\n",
       "      <td>2945</td>\n",
       "      <td>22.0</td>\n",
       "    </tr>\n",
       "    <tr>\n",
       "      <th>180</th>\n",
       "      <td>saab 99le</td>\n",
       "      <td>2671</td>\n",
       "      <td>25.0</td>\n",
       "    </tr>\n",
       "    <tr>\n",
       "      <th>181</th>\n",
       "      <td>honda civic cvcc</td>\n",
       "      <td>1795</td>\n",
       "      <td>33.0</td>\n",
       "    </tr>\n",
       "  </tbody>\n",
       "</table>\n",
       "</div>"
      ],
      "text/plain": [
       "              car name  weight   mpg\n",
       "167     toyota corolla    2171  29.0\n",
       "168         ford pinto    2639  23.0\n",
       "169        amc gremlin    2914  20.0\n",
       "170      pontiac astro    2592  23.0\n",
       "171      toyota corona    2702  24.0\n",
       "172  volkswagen dasher    2223  25.0\n",
       "173         datsun 710    2545  24.0\n",
       "174         ford pinto    2984  18.0\n",
       "175  volkswagen rabbit    1937  29.0\n",
       "177         audi 100ls    2694  23.0\n",
       "178        peugeot 504    2957  23.0\n",
       "179        volvo 244dl    2945  22.0\n",
       "180          saab 99le    2671  25.0\n",
       "181   honda civic cvcc    1795  33.0"
      ]
     },
     "execution_count": 83,
     "metadata": {},
     "output_type": "execute_result"
    }
   ],
   "source": [
    "df[(df[\"model year\"] ==75) & (df[\"weight\"]<3000)][[\"car name\",\"weight\",\"mpg\"]]\n"
   ]
  },
  {
   "cell_type": "markdown",
   "id": "49d24804-f1bf-465e-9c25-e5f255f4e88b",
   "metadata": {},
   "source": [
    "## 3 Handling Missing Data"
   ]
  },
  {
   "cell_type": "code",
   "execution_count": 85,
   "id": "2dc2fe85-070f-45d3-a145-ed12e07158b3",
   "metadata": {},
   "outputs": [
    {
     "data": {
      "text/plain": [
       "mpg             0\n",
       "cylinders       0\n",
       "displacement    0\n",
       "horsepower      0\n",
       "weight          0\n",
       "acceleration    0\n",
       "model year      0\n",
       "origin          0\n",
       "car name        0\n",
       "dtype: int64"
      ]
     },
     "execution_count": 85,
     "metadata": {},
     "output_type": "execute_result"
    }
   ],
   "source": [
    "#3 \n",
    "df.isna().sum()"
   ]
  },
  {
   "cell_type": "code",
   "execution_count": 87,
   "id": "2ee27a9a-fb3d-4441-a928-2a28db56a6e9",
   "metadata": {},
   "outputs": [
    {
     "data": {
      "text/plain": [
       "0      130\n",
       "1      165\n",
       "2      150\n",
       "3      150\n",
       "4      140\n",
       "      ... \n",
       "393     86\n",
       "394     52\n",
       "395     84\n",
       "396     79\n",
       "397     82\n",
       "Name: horsepower, Length: 398, dtype: int32"
      ]
     },
     "execution_count": 87,
     "metadata": {},
     "output_type": "execute_result"
    }
   ],
   "source": [
    "hp =df[(df['horsepower']!='?')]['horsepower'].astype(int).median()\n",
    "hps= df['horsepower'].values\n",
    "hps[hps=='?']=hp\n",
    "df['horsepower']=hps.astype(int)\n",
    "df['horsepower']\n"
   ]
  },
  {
   "cell_type": "code",
   "execution_count": 89,
   "id": "d8199900-9a70-4458-85dc-bacc345eeca1",
   "metadata": {},
   "outputs": [
    {
     "data": {
      "text/html": [
       "<div>\n",
       "<style scoped>\n",
       "    .dataframe tbody tr th:only-of-type {\n",
       "        vertical-align: middle;\n",
       "    }\n",
       "\n",
       "    .dataframe tbody tr th {\n",
       "        vertical-align: top;\n",
       "    }\n",
       "\n",
       "    .dataframe thead th {\n",
       "        text-align: right;\n",
       "    }\n",
       "</style>\n",
       "<table border=\"1\" class=\"dataframe\">\n",
       "  <thead>\n",
       "    <tr style=\"text-align: right;\">\n",
       "      <th></th>\n",
       "      <th>mpg</th>\n",
       "      <th>cylinders</th>\n",
       "      <th>displacement</th>\n",
       "      <th>horsepower</th>\n",
       "      <th>weight</th>\n",
       "      <th>acceleration</th>\n",
       "      <th>model year</th>\n",
       "      <th>origin</th>\n",
       "      <th>car name</th>\n",
       "    </tr>\n",
       "  </thead>\n",
       "  <tbody>\n",
       "    <tr>\n",
       "      <th>0</th>\n",
       "      <td>18.0</td>\n",
       "      <td>8</td>\n",
       "      <td>307.0</td>\n",
       "      <td>130</td>\n",
       "      <td>3504</td>\n",
       "      <td>12.0</td>\n",
       "      <td>70</td>\n",
       "      <td>1</td>\n",
       "      <td>chevrolet chevelle malibu</td>\n",
       "    </tr>\n",
       "    <tr>\n",
       "      <th>1</th>\n",
       "      <td>15.0</td>\n",
       "      <td>8</td>\n",
       "      <td>350.0</td>\n",
       "      <td>165</td>\n",
       "      <td>3693</td>\n",
       "      <td>11.5</td>\n",
       "      <td>70</td>\n",
       "      <td>1</td>\n",
       "      <td>buick skylark 320</td>\n",
       "    </tr>\n",
       "    <tr>\n",
       "      <th>2</th>\n",
       "      <td>18.0</td>\n",
       "      <td>8</td>\n",
       "      <td>318.0</td>\n",
       "      <td>150</td>\n",
       "      <td>3436</td>\n",
       "      <td>11.0</td>\n",
       "      <td>70</td>\n",
       "      <td>1</td>\n",
       "      <td>plymouth satellite</td>\n",
       "    </tr>\n",
       "    <tr>\n",
       "      <th>3</th>\n",
       "      <td>16.0</td>\n",
       "      <td>8</td>\n",
       "      <td>304.0</td>\n",
       "      <td>150</td>\n",
       "      <td>3433</td>\n",
       "      <td>12.0</td>\n",
       "      <td>70</td>\n",
       "      <td>1</td>\n",
       "      <td>amc rebel sst</td>\n",
       "    </tr>\n",
       "    <tr>\n",
       "      <th>4</th>\n",
       "      <td>17.0</td>\n",
       "      <td>8</td>\n",
       "      <td>302.0</td>\n",
       "      <td>140</td>\n",
       "      <td>3449</td>\n",
       "      <td>10.5</td>\n",
       "      <td>70</td>\n",
       "      <td>1</td>\n",
       "      <td>ford torino</td>\n",
       "    </tr>\n",
       "    <tr>\n",
       "      <th>...</th>\n",
       "      <td>...</td>\n",
       "      <td>...</td>\n",
       "      <td>...</td>\n",
       "      <td>...</td>\n",
       "      <td>...</td>\n",
       "      <td>...</td>\n",
       "      <td>...</td>\n",
       "      <td>...</td>\n",
       "      <td>...</td>\n",
       "    </tr>\n",
       "    <tr>\n",
       "      <th>393</th>\n",
       "      <td>27.0</td>\n",
       "      <td>4</td>\n",
       "      <td>140.0</td>\n",
       "      <td>86</td>\n",
       "      <td>2790</td>\n",
       "      <td>15.6</td>\n",
       "      <td>82</td>\n",
       "      <td>1</td>\n",
       "      <td>ford mustang gl</td>\n",
       "    </tr>\n",
       "    <tr>\n",
       "      <th>394</th>\n",
       "      <td>44.0</td>\n",
       "      <td>4</td>\n",
       "      <td>97.0</td>\n",
       "      <td>52</td>\n",
       "      <td>2130</td>\n",
       "      <td>24.6</td>\n",
       "      <td>82</td>\n",
       "      <td>2</td>\n",
       "      <td>vw pickup</td>\n",
       "    </tr>\n",
       "    <tr>\n",
       "      <th>395</th>\n",
       "      <td>32.0</td>\n",
       "      <td>4</td>\n",
       "      <td>135.0</td>\n",
       "      <td>84</td>\n",
       "      <td>2295</td>\n",
       "      <td>11.6</td>\n",
       "      <td>82</td>\n",
       "      <td>1</td>\n",
       "      <td>dodge rampage</td>\n",
       "    </tr>\n",
       "    <tr>\n",
       "      <th>396</th>\n",
       "      <td>28.0</td>\n",
       "      <td>4</td>\n",
       "      <td>120.0</td>\n",
       "      <td>79</td>\n",
       "      <td>2625</td>\n",
       "      <td>18.6</td>\n",
       "      <td>82</td>\n",
       "      <td>1</td>\n",
       "      <td>ford ranger</td>\n",
       "    </tr>\n",
       "    <tr>\n",
       "      <th>397</th>\n",
       "      <td>31.0</td>\n",
       "      <td>4</td>\n",
       "      <td>119.0</td>\n",
       "      <td>82</td>\n",
       "      <td>2720</td>\n",
       "      <td>19.4</td>\n",
       "      <td>82</td>\n",
       "      <td>1</td>\n",
       "      <td>chevy s-10</td>\n",
       "    </tr>\n",
       "  </tbody>\n",
       "</table>\n",
       "<p>398 rows × 9 columns</p>\n",
       "</div>"
      ],
      "text/plain": [
       "      mpg  cylinders  displacement  horsepower  weight  acceleration  \\\n",
       "0    18.0          8         307.0         130    3504          12.0   \n",
       "1    15.0          8         350.0         165    3693          11.5   \n",
       "2    18.0          8         318.0         150    3436          11.0   \n",
       "3    16.0          8         304.0         150    3433          12.0   \n",
       "4    17.0          8         302.0         140    3449          10.5   \n",
       "..    ...        ...           ...         ...     ...           ...   \n",
       "393  27.0          4         140.0          86    2790          15.6   \n",
       "394  44.0          4          97.0          52    2130          24.6   \n",
       "395  32.0          4         135.0          84    2295          11.6   \n",
       "396  28.0          4         120.0          79    2625          18.6   \n",
       "397  31.0          4         119.0          82    2720          19.4   \n",
       "\n",
       "     model year  origin                   car name  \n",
       "0            70       1  chevrolet chevelle malibu  \n",
       "1            70       1          buick skylark 320  \n",
       "2            70       1         plymouth satellite  \n",
       "3            70       1              amc rebel sst  \n",
       "4            70       1                ford torino  \n",
       "..          ...     ...                        ...  \n",
       "393          82       1            ford mustang gl  \n",
       "394          82       2                  vw pickup  \n",
       "395          82       1              dodge rampage  \n",
       "396          82       1                ford ranger  \n",
       "397          82       1                 chevy s-10  \n",
       "\n",
       "[398 rows x 9 columns]"
      ]
     },
     "execution_count": 89,
     "metadata": {},
     "output_type": "execute_result"
    }
   ],
   "source": [
    "df\n"
   ]
  },
  {
   "cell_type": "markdown",
   "id": "79c35263-672e-4b5b-9e25-a8de7c936bde",
   "metadata": {},
   "source": [
    "## 4 Data Transformation"
   ]
  },
  {
   "cell_type": "code",
   "execution_count": 91,
   "id": "ff4a85ff-dbbd-4272-bc28-67c11409d796",
   "metadata": {},
   "outputs": [
    {
     "data": {
      "text/html": [
       "<div>\n",
       "<style scoped>\n",
       "    .dataframe tbody tr th:only-of-type {\n",
       "        vertical-align: middle;\n",
       "    }\n",
       "\n",
       "    .dataframe tbody tr th {\n",
       "        vertical-align: top;\n",
       "    }\n",
       "\n",
       "    .dataframe thead th {\n",
       "        text-align: right;\n",
       "    }\n",
       "</style>\n",
       "<table border=\"1\" class=\"dataframe\">\n",
       "  <thead>\n",
       "    <tr style=\"text-align: right;\">\n",
       "      <th></th>\n",
       "      <th>mpg</th>\n",
       "      <th>cylinders</th>\n",
       "      <th>displacement</th>\n",
       "      <th>horsepower</th>\n",
       "      <th>weight</th>\n",
       "      <th>acceleration</th>\n",
       "      <th>model year</th>\n",
       "      <th>origin</th>\n",
       "      <th>car name</th>\n",
       "      <th>power_to_weight_ratio</th>\n",
       "    </tr>\n",
       "  </thead>\n",
       "  <tbody>\n",
       "    <tr>\n",
       "      <th>0</th>\n",
       "      <td>18.0</td>\n",
       "      <td>8</td>\n",
       "      <td>307.0</td>\n",
       "      <td>130</td>\n",
       "      <td>3504</td>\n",
       "      <td>12.0</td>\n",
       "      <td>70</td>\n",
       "      <td>1</td>\n",
       "      <td>chevrolet chevelle malibu</td>\n",
       "      <td>0.037100</td>\n",
       "    </tr>\n",
       "    <tr>\n",
       "      <th>1</th>\n",
       "      <td>15.0</td>\n",
       "      <td>8</td>\n",
       "      <td>350.0</td>\n",
       "      <td>165</td>\n",
       "      <td>3693</td>\n",
       "      <td>11.5</td>\n",
       "      <td>70</td>\n",
       "      <td>1</td>\n",
       "      <td>buick skylark 320</td>\n",
       "      <td>0.044679</td>\n",
       "    </tr>\n",
       "    <tr>\n",
       "      <th>2</th>\n",
       "      <td>18.0</td>\n",
       "      <td>8</td>\n",
       "      <td>318.0</td>\n",
       "      <td>150</td>\n",
       "      <td>3436</td>\n",
       "      <td>11.0</td>\n",
       "      <td>70</td>\n",
       "      <td>1</td>\n",
       "      <td>plymouth satellite</td>\n",
       "      <td>0.043655</td>\n",
       "    </tr>\n",
       "    <tr>\n",
       "      <th>3</th>\n",
       "      <td>16.0</td>\n",
       "      <td>8</td>\n",
       "      <td>304.0</td>\n",
       "      <td>150</td>\n",
       "      <td>3433</td>\n",
       "      <td>12.0</td>\n",
       "      <td>70</td>\n",
       "      <td>1</td>\n",
       "      <td>amc rebel sst</td>\n",
       "      <td>0.043694</td>\n",
       "    </tr>\n",
       "    <tr>\n",
       "      <th>4</th>\n",
       "      <td>17.0</td>\n",
       "      <td>8</td>\n",
       "      <td>302.0</td>\n",
       "      <td>140</td>\n",
       "      <td>3449</td>\n",
       "      <td>10.5</td>\n",
       "      <td>70</td>\n",
       "      <td>1</td>\n",
       "      <td>ford torino</td>\n",
       "      <td>0.040591</td>\n",
       "    </tr>\n",
       "  </tbody>\n",
       "</table>\n",
       "</div>"
      ],
      "text/plain": [
       "    mpg  cylinders  displacement  horsepower  weight  acceleration  \\\n",
       "0  18.0          8         307.0         130    3504          12.0   \n",
       "1  15.0          8         350.0         165    3693          11.5   \n",
       "2  18.0          8         318.0         150    3436          11.0   \n",
       "3  16.0          8         304.0         150    3433          12.0   \n",
       "4  17.0          8         302.0         140    3449          10.5   \n",
       "\n",
       "   model year  origin                   car name  power_to_weight_ratio  \n",
       "0          70       1  chevrolet chevelle malibu               0.037100  \n",
       "1          70       1          buick skylark 320               0.044679  \n",
       "2          70       1         plymouth satellite               0.043655  \n",
       "3          70       1              amc rebel sst               0.043694  \n",
       "4          70       1                ford torino               0.040591  "
      ]
     },
     "execution_count": 91,
     "metadata": {},
     "output_type": "execute_result"
    }
   ],
   "source": [
    "#4\n",
    "df[\"power_to_weight_ratio\"] = df[\"horsepower\"]/df[\"weight\"]\n",
    "df.head()"
   ]
  },
  {
   "cell_type": "markdown",
   "id": "f948790a-c831-44d5-996b-f804334475f4",
   "metadata": {},
   "source": [
    "## 5 Group By group the cars by origin and calculate the mean mpg for each grou"
   ]
  },
  {
   "cell_type": "code",
   "execution_count": 93,
   "id": "0749882e-59b4-4e55-963f-7f25183743c6",
   "metadata": {},
   "outputs": [
    {
     "data": {
      "text/plain": [
       "origin\n",
       "1    20.083534\n",
       "2    27.891429\n",
       "3    30.450633\n",
       "Name: mpg, dtype: float64"
      ]
     },
     "execution_count": 93,
     "metadata": {},
     "output_type": "execute_result"
    }
   ],
   "source": [
    "#5\n",
    "df_grouped = df.groupby(by=\"origin\")['mpg'].mean()\n",
    "df_grouped.head()"
   ]
  },
  {
   "cell_type": "markdown",
   "id": "b60c4046-9807-4078-92e2-aba7decfc19d",
   "metadata": {},
   "source": [
    "## 6 Sorting Sort the DataFrame by mpg in descending order and display the top 10 cars with the highest mpg."
   ]
  },
  {
   "cell_type": "code",
   "execution_count": 101,
   "id": "8f8c5ffe-a86f-47fc-8c8a-93df94d95d04",
   "metadata": {},
   "outputs": [
    {
     "data": {
      "text/html": [
       "<div>\n",
       "<style scoped>\n",
       "    .dataframe tbody tr th:only-of-type {\n",
       "        vertical-align: middle;\n",
       "    }\n",
       "\n",
       "    .dataframe tbody tr th {\n",
       "        vertical-align: top;\n",
       "    }\n",
       "\n",
       "    .dataframe thead th {\n",
       "        text-align: right;\n",
       "    }\n",
       "</style>\n",
       "<table border=\"1\" class=\"dataframe\">\n",
       "  <thead>\n",
       "    <tr style=\"text-align: right;\">\n",
       "      <th></th>\n",
       "      <th>mpg</th>\n",
       "      <th>cylinders</th>\n",
       "      <th>displacement</th>\n",
       "      <th>horsepower</th>\n",
       "      <th>weight</th>\n",
       "      <th>acceleration</th>\n",
       "      <th>model year</th>\n",
       "      <th>origin</th>\n",
       "      <th>car name</th>\n",
       "      <th>power_to_weight_ratio</th>\n",
       "    </tr>\n",
       "  </thead>\n",
       "  <tbody>\n",
       "    <tr>\n",
       "      <th>322</th>\n",
       "      <td>46.6</td>\n",
       "      <td>4</td>\n",
       "      <td>86.0</td>\n",
       "      <td>65</td>\n",
       "      <td>2110</td>\n",
       "      <td>17.9</td>\n",
       "      <td>80</td>\n",
       "      <td>3</td>\n",
       "      <td>mazda glc</td>\n",
       "      <td>0.030806</td>\n",
       "    </tr>\n",
       "    <tr>\n",
       "      <th>329</th>\n",
       "      <td>44.6</td>\n",
       "      <td>4</td>\n",
       "      <td>91.0</td>\n",
       "      <td>67</td>\n",
       "      <td>1850</td>\n",
       "      <td>13.8</td>\n",
       "      <td>80</td>\n",
       "      <td>3</td>\n",
       "      <td>honda civic 1500 gl</td>\n",
       "      <td>0.036216</td>\n",
       "    </tr>\n",
       "    <tr>\n",
       "      <th>325</th>\n",
       "      <td>44.3</td>\n",
       "      <td>4</td>\n",
       "      <td>90.0</td>\n",
       "      <td>48</td>\n",
       "      <td>2085</td>\n",
       "      <td>21.7</td>\n",
       "      <td>80</td>\n",
       "      <td>2</td>\n",
       "      <td>vw rabbit c (diesel)</td>\n",
       "      <td>0.023022</td>\n",
       "    </tr>\n",
       "    <tr>\n",
       "      <th>394</th>\n",
       "      <td>44.0</td>\n",
       "      <td>4</td>\n",
       "      <td>97.0</td>\n",
       "      <td>52</td>\n",
       "      <td>2130</td>\n",
       "      <td>24.6</td>\n",
       "      <td>82</td>\n",
       "      <td>2</td>\n",
       "      <td>vw pickup</td>\n",
       "      <td>0.024413</td>\n",
       "    </tr>\n",
       "    <tr>\n",
       "      <th>326</th>\n",
       "      <td>43.4</td>\n",
       "      <td>4</td>\n",
       "      <td>90.0</td>\n",
       "      <td>48</td>\n",
       "      <td>2335</td>\n",
       "      <td>23.7</td>\n",
       "      <td>80</td>\n",
       "      <td>2</td>\n",
       "      <td>vw dasher (diesel)</td>\n",
       "      <td>0.020557</td>\n",
       "    </tr>\n",
       "    <tr>\n",
       "      <th>244</th>\n",
       "      <td>43.1</td>\n",
       "      <td>4</td>\n",
       "      <td>90.0</td>\n",
       "      <td>48</td>\n",
       "      <td>1985</td>\n",
       "      <td>21.5</td>\n",
       "      <td>78</td>\n",
       "      <td>2</td>\n",
       "      <td>volkswagen rabbit custom diesel</td>\n",
       "      <td>0.024181</td>\n",
       "    </tr>\n",
       "    <tr>\n",
       "      <th>309</th>\n",
       "      <td>41.5</td>\n",
       "      <td>4</td>\n",
       "      <td>98.0</td>\n",
       "      <td>76</td>\n",
       "      <td>2144</td>\n",
       "      <td>14.7</td>\n",
       "      <td>80</td>\n",
       "      <td>2</td>\n",
       "      <td>vw rabbit</td>\n",
       "      <td>0.035448</td>\n",
       "    </tr>\n",
       "    <tr>\n",
       "      <th>330</th>\n",
       "      <td>40.9</td>\n",
       "      <td>4</td>\n",
       "      <td>85.0</td>\n",
       "      <td>93</td>\n",
       "      <td>1835</td>\n",
       "      <td>17.3</td>\n",
       "      <td>80</td>\n",
       "      <td>2</td>\n",
       "      <td>renault lecar deluxe</td>\n",
       "      <td>0.050681</td>\n",
       "    </tr>\n",
       "    <tr>\n",
       "      <th>324</th>\n",
       "      <td>40.8</td>\n",
       "      <td>4</td>\n",
       "      <td>85.0</td>\n",
       "      <td>65</td>\n",
       "      <td>2110</td>\n",
       "      <td>19.2</td>\n",
       "      <td>80</td>\n",
       "      <td>3</td>\n",
       "      <td>datsun 210</td>\n",
       "      <td>0.030806</td>\n",
       "    </tr>\n",
       "    <tr>\n",
       "      <th>247</th>\n",
       "      <td>39.4</td>\n",
       "      <td>4</td>\n",
       "      <td>85.0</td>\n",
       "      <td>70</td>\n",
       "      <td>2070</td>\n",
       "      <td>18.6</td>\n",
       "      <td>78</td>\n",
       "      <td>3</td>\n",
       "      <td>datsun b210 gx</td>\n",
       "      <td>0.033816</td>\n",
       "    </tr>\n",
       "  </tbody>\n",
       "</table>\n",
       "</div>"
      ],
      "text/plain": [
       "      mpg  cylinders  displacement  horsepower  weight  acceleration  \\\n",
       "322  46.6          4          86.0          65    2110          17.9   \n",
       "329  44.6          4          91.0          67    1850          13.8   \n",
       "325  44.3          4          90.0          48    2085          21.7   \n",
       "394  44.0          4          97.0          52    2130          24.6   \n",
       "326  43.4          4          90.0          48    2335          23.7   \n",
       "244  43.1          4          90.0          48    1985          21.5   \n",
       "309  41.5          4          98.0          76    2144          14.7   \n",
       "330  40.9          4          85.0          93    1835          17.3   \n",
       "324  40.8          4          85.0          65    2110          19.2   \n",
       "247  39.4          4          85.0          70    2070          18.6   \n",
       "\n",
       "     model year  origin                         car name  \\\n",
       "322          80       3                        mazda glc   \n",
       "329          80       3              honda civic 1500 gl   \n",
       "325          80       2             vw rabbit c (diesel)   \n",
       "394          82       2                        vw pickup   \n",
       "326          80       2               vw dasher (diesel)   \n",
       "244          78       2  volkswagen rabbit custom diesel   \n",
       "309          80       2                        vw rabbit   \n",
       "330          80       2             renault lecar deluxe   \n",
       "324          80       3                       datsun 210   \n",
       "247          78       3                   datsun b210 gx   \n",
       "\n",
       "     power_to_weight_ratio  \n",
       "322               0.030806  \n",
       "329               0.036216  \n",
       "325               0.023022  \n",
       "394               0.024413  \n",
       "326               0.020557  \n",
       "244               0.024181  \n",
       "309               0.035448  \n",
       "330               0.050681  \n",
       "324               0.030806  \n",
       "247               0.033816  "
      ]
     },
     "execution_count": 101,
     "metadata": {},
     "output_type": "execute_result"
    }
   ],
   "source": [
    "#6\n",
    "df_mpg_sort = df.sort_values(by= \"mpg\",ascending = False)\n",
    "df_mpg_sort.head(10)"
   ]
  },
  {
   "cell_type": "markdown",
   "id": "04621b17-7e75-4f16-8cfe-c828e188a7a6",
   "metadata": {},
   "source": [
    " ## 7 Apply Function Create a new column performance_score using a custom function:\n",
    "#### def performance_score(row):\n",
    "####    return row['mpg'] * row['acceleration'] / row['weight']\n",
    "### Apply this function to each row and store the result in the new colum"
   ]
  },
  {
   "cell_type": "code",
   "execution_count": 105,
   "id": "571c6dbc-baea-4f35-821f-bc2b58ee66d8",
   "metadata": {},
   "outputs": [],
   "source": [
    "#7\n",
    "def performance_score(row):\n",
    "    return row['mpg'] * row['acceleration'] / row['weight']\n",
    "    "
   ]
  },
  {
   "cell_type": "code",
   "execution_count": 109,
   "id": "0d0f9478-c43f-4c90-b1a4-ac42bf68cf8c",
   "metadata": {},
   "outputs": [
    {
     "data": {
      "text/html": [
       "<div>\n",
       "<style scoped>\n",
       "    .dataframe tbody tr th:only-of-type {\n",
       "        vertical-align: middle;\n",
       "    }\n",
       "\n",
       "    .dataframe tbody tr th {\n",
       "        vertical-align: top;\n",
       "    }\n",
       "\n",
       "    .dataframe thead th {\n",
       "        text-align: right;\n",
       "    }\n",
       "</style>\n",
       "<table border=\"1\" class=\"dataframe\">\n",
       "  <thead>\n",
       "    <tr style=\"text-align: right;\">\n",
       "      <th></th>\n",
       "      <th>mpg</th>\n",
       "      <th>acceleration</th>\n",
       "      <th>weight</th>\n",
       "      <th>performance_score</th>\n",
       "    </tr>\n",
       "  </thead>\n",
       "  <tbody>\n",
       "    <tr>\n",
       "      <th>0</th>\n",
       "      <td>18.0</td>\n",
       "      <td>12.0</td>\n",
       "      <td>3504</td>\n",
       "      <td>0.061644</td>\n",
       "    </tr>\n",
       "    <tr>\n",
       "      <th>1</th>\n",
       "      <td>15.0</td>\n",
       "      <td>11.5</td>\n",
       "      <td>3693</td>\n",
       "      <td>0.046710</td>\n",
       "    </tr>\n",
       "    <tr>\n",
       "      <th>2</th>\n",
       "      <td>18.0</td>\n",
       "      <td>11.0</td>\n",
       "      <td>3436</td>\n",
       "      <td>0.057625</td>\n",
       "    </tr>\n",
       "    <tr>\n",
       "      <th>3</th>\n",
       "      <td>16.0</td>\n",
       "      <td>12.0</td>\n",
       "      <td>3433</td>\n",
       "      <td>0.055928</td>\n",
       "    </tr>\n",
       "    <tr>\n",
       "      <th>4</th>\n",
       "      <td>17.0</td>\n",
       "      <td>10.5</td>\n",
       "      <td>3449</td>\n",
       "      <td>0.051754</td>\n",
       "    </tr>\n",
       "  </tbody>\n",
       "</table>\n",
       "</div>"
      ],
      "text/plain": [
       "    mpg  acceleration  weight  performance_score\n",
       "0  18.0          12.0    3504           0.061644\n",
       "1  15.0          11.5    3693           0.046710\n",
       "2  18.0          11.0    3436           0.057625\n",
       "3  16.0          12.0    3433           0.055928\n",
       "4  17.0          10.5    3449           0.051754"
      ]
     },
     "execution_count": 109,
     "metadata": {},
     "output_type": "execute_result"
    }
   ],
   "source": [
    "df['performance_score'] =df.apply(performance_score,axis=1)\n",
    "df[['mpg','acceleration','weight','performance_score']].head()"
   ]
  },
  {
   "cell_type": "markdown",
   "id": "d8dce73b-9935-4229-961a-71cb66a83984",
   "metadata": {},
   "source": [
    "### 8 Visualization Preparation"
   ]
  },
  {
   "cell_type": "code",
   "execution_count": 111,
   "id": "821d5732-120f-44e5-a7b8-a4aa36fb6b16",
   "metadata": {},
   "outputs": [
    {
     "data": {
      "text/html": [
       "<div>\n",
       "<style scoped>\n",
       "    .dataframe tbody tr th:only-of-type {\n",
       "        vertical-align: middle;\n",
       "    }\n",
       "\n",
       "    .dataframe tbody tr th {\n",
       "        vertical-align: top;\n",
       "    }\n",
       "\n",
       "    .dataframe thead th {\n",
       "        text-align: right;\n",
       "    }\n",
       "</style>\n",
       "<table border=\"1\" class=\"dataframe\">\n",
       "  <thead>\n",
       "    <tr style=\"text-align: right;\">\n",
       "      <th></th>\n",
       "      <th>mpg</th>\n",
       "      <th>weight</th>\n",
       "      <th>horsepower</th>\n",
       "    </tr>\n",
       "    <tr>\n",
       "      <th>model year</th>\n",
       "      <th></th>\n",
       "      <th></th>\n",
       "      <th></th>\n",
       "    </tr>\n",
       "  </thead>\n",
       "  <tbody>\n",
       "    <tr>\n",
       "      <th>70</th>\n",
       "      <td>17.689655</td>\n",
       "      <td>3372.793103</td>\n",
       "      <td>147.827586</td>\n",
       "    </tr>\n",
       "    <tr>\n",
       "      <th>71</th>\n",
       "      <td>21.250000</td>\n",
       "      <td>2995.428571</td>\n",
       "      <td>106.535714</td>\n",
       "    </tr>\n",
       "    <tr>\n",
       "      <th>72</th>\n",
       "      <td>18.714286</td>\n",
       "      <td>3237.714286</td>\n",
       "      <td>120.178571</td>\n",
       "    </tr>\n",
       "    <tr>\n",
       "      <th>73</th>\n",
       "      <td>17.100000</td>\n",
       "      <td>3419.025000</td>\n",
       "      <td>130.475000</td>\n",
       "    </tr>\n",
       "    <tr>\n",
       "      <th>74</th>\n",
       "      <td>22.703704</td>\n",
       "      <td>2877.925926</td>\n",
       "      <td>94.185185</td>\n",
       "    </tr>\n",
       "    <tr>\n",
       "      <th>75</th>\n",
       "      <td>20.266667</td>\n",
       "      <td>3176.800000</td>\n",
       "      <td>101.066667</td>\n",
       "    </tr>\n",
       "    <tr>\n",
       "      <th>76</th>\n",
       "      <td>21.573529</td>\n",
       "      <td>3078.735294</td>\n",
       "      <td>101.117647</td>\n",
       "    </tr>\n",
       "    <tr>\n",
       "      <th>77</th>\n",
       "      <td>23.375000</td>\n",
       "      <td>2997.357143</td>\n",
       "      <td>105.071429</td>\n",
       "    </tr>\n",
       "    <tr>\n",
       "      <th>78</th>\n",
       "      <td>24.061111</td>\n",
       "      <td>2861.805556</td>\n",
       "      <td>99.694444</td>\n",
       "    </tr>\n",
       "    <tr>\n",
       "      <th>79</th>\n",
       "      <td>25.093103</td>\n",
       "      <td>3055.344828</td>\n",
       "      <td>101.206897</td>\n",
       "    </tr>\n",
       "    <tr>\n",
       "      <th>80</th>\n",
       "      <td>33.696552</td>\n",
       "      <td>2436.655172</td>\n",
       "      <td>78.551724</td>\n",
       "    </tr>\n",
       "    <tr>\n",
       "      <th>81</th>\n",
       "      <td>30.334483</td>\n",
       "      <td>2522.931034</td>\n",
       "      <td>81.448276</td>\n",
       "    </tr>\n",
       "    <tr>\n",
       "      <th>82</th>\n",
       "      <td>31.709677</td>\n",
       "      <td>2453.548387</td>\n",
       "      <td>81.838710</td>\n",
       "    </tr>\n",
       "  </tbody>\n",
       "</table>\n",
       "</div>"
      ],
      "text/plain": [
       "                  mpg       weight  horsepower\n",
       "model year                                    \n",
       "70          17.689655  3372.793103  147.827586\n",
       "71          21.250000  2995.428571  106.535714\n",
       "72          18.714286  3237.714286  120.178571\n",
       "73          17.100000  3419.025000  130.475000\n",
       "74          22.703704  2877.925926   94.185185\n",
       "75          20.266667  3176.800000  101.066667\n",
       "76          21.573529  3078.735294  101.117647\n",
       "77          23.375000  2997.357143  105.071429\n",
       "78          24.061111  2861.805556   99.694444\n",
       "79          25.093103  3055.344828  101.206897\n",
       "80          33.696552  2436.655172   78.551724\n",
       "81          30.334483  2522.931034   81.448276\n",
       "82          31.709677  2453.548387   81.838710"
      ]
     },
     "execution_count": 111,
     "metadata": {},
     "output_type": "execute_result"
    }
   ],
   "source": [
    "#8\n",
    "df_summary =df.groupby(by='model year')[['mpg','weight','horsepower']].mean()\n",
    "df_summary"
   ]
  },
  {
   "cell_type": "markdown",
   "id": "41bfbfb8-33ae-4b1c-9cbf-a9cb36fd3916",
   "metadata": {},
   "source": [
    "### 9 Exporting Data"
   ]
  },
  {
   "cell_type": "code",
   "execution_count": 113,
   "id": "0a683c36-0b43-45bd-aa52-f2d03a0e7adc",
   "metadata": {},
   "outputs": [],
   "source": [
    "#9\n",
    "new_dff =df[df['mpg']>30][['mpg','cylinders','horsepower','weight']]\n",
    "new_dff.to_csv(\"high_mpg_cars.csv\")"
   ]
  },
  {
   "cell_type": "markdown",
   "id": "8c9b7086-c984-4de0-ad62-96bb72024f28",
   "metadata": {},
   "source": [
    "### 10 .Finding Anomalies"
   ]
  },
  {
   "cell_type": "code",
   "execution_count": 115,
   "id": "48c9cf5f-6ecc-4e23-ba26-d70c61ba5d3f",
   "metadata": {},
   "outputs": [
    {
     "name": "stdout",
     "output_type": "stream",
     "text": [
      "Cars classified as outliers:\n"
     ]
    },
    {
     "data": {
      "text/html": [
       "<div>\n",
       "<style scoped>\n",
       "    .dataframe tbody tr th:only-of-type {\n",
       "        vertical-align: middle;\n",
       "    }\n",
       "\n",
       "    .dataframe tbody tr th {\n",
       "        vertical-align: top;\n",
       "    }\n",
       "\n",
       "    .dataframe thead th {\n",
       "        text-align: right;\n",
       "    }\n",
       "</style>\n",
       "<table border=\"1\" class=\"dataframe\">\n",
       "  <thead>\n",
       "    <tr style=\"text-align: right;\">\n",
       "      <th></th>\n",
       "      <th>car name</th>\n",
       "      <th>mpg</th>\n",
       "      <th>model year</th>\n",
       "    </tr>\n",
       "  </thead>\n",
       "  <tbody>\n",
       "    <tr>\n",
       "      <th>322</th>\n",
       "      <td>mazda glc</td>\n",
       "      <td>46.6</td>\n",
       "      <td>80</td>\n",
       "    </tr>\n",
       "  </tbody>\n",
       "</table>\n",
       "</div>"
      ],
      "text/plain": [
       "      car name   mpg  model year\n",
       "322  mazda glc  46.6          80"
      ]
     },
     "execution_count": 115,
     "metadata": {},
     "output_type": "execute_result"
    }
   ],
   "source": [
    "#10\n",
    "Q1 =df['mpg'].quantile(0.25)\n",
    "Q3 =df['mpg'].quantile(0.75)\n",
    "IQR = Q3 -Q1\n",
    "\n",
    "lower_bound = Q1 -1.5 * IQR\n",
    "upper_bound = Q3 + 1.5 * IQR\n",
    "\n",
    "outliers = df[(df['mpg']<lower_bound) | (df['mpg']>upper_bound)]\n",
    "outliers_df = outliers[['car name','mpg','model year']]\n",
    "\n",
    "print(\"Cars classified as outliers:\")\n",
    "(outliers_df)"
   ]
  },
  {
   "cell_type": "code",
   "execution_count": null,
   "id": "04f8eeab-07c3-4424-91e8-bf2a3a6675d5",
   "metadata": {},
   "outputs": [],
   "source": []
  }
 ],
 "metadata": {
  "kernelspec": {
   "display_name": "Python 3 (ipykernel)",
   "language": "python",
   "name": "python3"
  },
  "language_info": {
   "codemirror_mode": {
    "name": "ipython",
    "version": 3
   },
   "file_extension": ".py",
   "mimetype": "text/x-python",
   "name": "python",
   "nbconvert_exporter": "python",
   "pygments_lexer": "ipython3",
   "version": "3.12.7"
  }
 },
 "nbformat": 4,
 "nbformat_minor": 5
}
